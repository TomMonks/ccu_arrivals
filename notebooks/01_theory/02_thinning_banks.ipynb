{
 "cells": [
  {
   "cell_type": "markdown",
   "metadata": {},
   "source": [
    "# Time dependent arrivals via thinning\n",
    "\n",
    "This notebook provides an overview of how to use the `time_dependent.NSPPThinning` class.  \n",
    "\n",
    "Thinning is an acceptance-rejection approach to sampling inter-arrival times (IAT) from a time dependent distribution where each time period follows its own exponential distribution.\n",
    "\n",
    "There are two random variables employed in sampling: an exponential distribution (used to sample IAT) and a uniform distibution (used to accept/reject samples).\n",
    "\n",
    "All IATs are sampled from an Exponential distribution with the highest arrival rate (most frequent). These arrivals are then rejected (thinned) proportional to the ratio of the current arrival rate to the maximum arrival rate.  The algorithm executes until a sample is accepted.  The IAT returned is the sum of all the IATs that were sampled.\n",
    "\n",
    "## The thinning algorithm\n",
    "\n",
    "A NSPP has arrival rate $\\lambda(t)$ where $0 \\leq t \\leq T$\n",
    "\n",
    "Here $i$ is the arrival number and $\\mathcal{T_i}$ is its arrival time.\n",
    "\n",
    "1. Let $\\lambda^* = \\max_{0 \\leq t \\leq T}\\lambda(t)$ be the maximum of the arrival rate function and set $t = 0$ and $i=1$\n",
    "\n",
    "2. Generate $e$ from the exponential distribution with rate $\\lambda^*$ and let $t = t + e$ (this is the time of the next entity will arrive)\n",
    "\n",
    "3. Generate $u$ from the $U(0,1)$ distribution.  If $u \\leq \\dfrac{\\lambda(t)}{\\lambda^*}$ then $\\mathcal{T_i} =t$ and $i = i + 1$\n",
    "\n",
    "4. Go to Step 2."
   ]
  },
  {
   "cell_type": "markdown",
   "metadata": {},
   "source": [
    "## `sim-tools` imports"
   ]
  },
  {
   "cell_type": "code",
   "execution_count": 1,
   "metadata": {},
   "outputs": [],
   "source": [
    "from sim_tools.datasets import load_banks_et_al_nspp\n",
    "from sim_tools.time_dependent import NSPPThinning"
   ]
  },
  {
   "cell_type": "markdown",
   "metadata": {},
   "source": [
    "## general imports"
   ]
  },
  {
   "cell_type": "code",
   "execution_count": 2,
   "metadata": {},
   "outputs": [],
   "source": [
    "import numpy as np\n",
    "import pandas as pd\n",
    "import matplotlib.pyplot as plt\n",
    "import simpy\n",
    "import itertools"
   ]
  },
  {
   "cell_type": "markdown",
   "metadata": {},
   "source": [
    "## Example from Banks et al.\n",
    "\n",
    "We will illustrate the use of `NSPPThinning` using an example from Banks et al. \n",
    "\n",
    "The table below breaks an arrival process down into 60 minutes intervals.\n",
    "\n",
    "\n",
    "| t(min) | Mean time between arrivals (min) | Arrival Rate $\\lambda(t)$ (arrivals/min) |\n",
    "|:------:|:--------------------------------:|:--------------------------------------:|\n",
    "|    0   |                15                |                  1/15                  |\n",
    "|   60   |                12                |                  1/12                  |\n",
    "|   120  |                 7                |                   1/7                  |\n",
    "|   180  |                 5                |                   1/5                  |\n",
    "|   240  |                 8                |                   1/8                  |\n",
    "|   300  |                10                |                  1/10                  |\n",
    "|   360  |                15                |                  1/15                  |\n",
    "|   420  |                20                |                  1/20                  |\n",
    "|   480  |                20                |                  1/20                  |\n",
    "\n",
    "\n",
    "> **Interpretation**: In the table above the fastest arrival rate is 1/5 customers per minute or 5 minutes between customer arrivals."
   ]
  },
  {
   "cell_type": "code",
   "execution_count": 3,
   "metadata": {},
   "outputs": [
    {
     "data": {
      "text/html": [
       "<div>\n",
       "<style scoped>\n",
       "    .dataframe tbody tr th:only-of-type {\n",
       "        vertical-align: middle;\n",
       "    }\n",
       "\n",
       "    .dataframe tbody tr th {\n",
       "        vertical-align: top;\n",
       "    }\n",
       "\n",
       "    .dataframe thead th {\n",
       "        text-align: right;\n",
       "    }\n",
       "</style>\n",
       "<table border=\"1\" class=\"dataframe\">\n",
       "  <thead>\n",
       "    <tr style=\"text-align: right;\">\n",
       "      <th></th>\n",
       "      <th>t</th>\n",
       "      <th>mean_iat</th>\n",
       "      <th>arrival_rate</th>\n",
       "    </tr>\n",
       "  </thead>\n",
       "  <tbody>\n",
       "    <tr>\n",
       "      <th>0</th>\n",
       "      <td>0</td>\n",
       "      <td>15</td>\n",
       "      <td>0.066667</td>\n",
       "    </tr>\n",
       "    <tr>\n",
       "      <th>1</th>\n",
       "      <td>60</td>\n",
       "      <td>12</td>\n",
       "      <td>0.083333</td>\n",
       "    </tr>\n",
       "    <tr>\n",
       "      <th>2</th>\n",
       "      <td>120</td>\n",
       "      <td>7</td>\n",
       "      <td>0.142857</td>\n",
       "    </tr>\n",
       "    <tr>\n",
       "      <th>3</th>\n",
       "      <td>180</td>\n",
       "      <td>5</td>\n",
       "      <td>0.200000</td>\n",
       "    </tr>\n",
       "    <tr>\n",
       "      <th>4</th>\n",
       "      <td>240</td>\n",
       "      <td>8</td>\n",
       "      <td>0.125000</td>\n",
       "    </tr>\n",
       "    <tr>\n",
       "      <th>5</th>\n",
       "      <td>300</td>\n",
       "      <td>10</td>\n",
       "      <td>0.100000</td>\n",
       "    </tr>\n",
       "    <tr>\n",
       "      <th>6</th>\n",
       "      <td>360</td>\n",
       "      <td>15</td>\n",
       "      <td>0.066667</td>\n",
       "    </tr>\n",
       "    <tr>\n",
       "      <th>7</th>\n",
       "      <td>420</td>\n",
       "      <td>20</td>\n",
       "      <td>0.050000</td>\n",
       "    </tr>\n",
       "    <tr>\n",
       "      <th>8</th>\n",
       "      <td>480</td>\n",
       "      <td>20</td>\n",
       "      <td>0.050000</td>\n",
       "    </tr>\n",
       "  </tbody>\n",
       "</table>\n",
       "</div>"
      ],
      "text/plain": [
       "     t  mean_iat  arrival_rate\n",
       "0    0        15      0.066667\n",
       "1   60        12      0.083333\n",
       "2  120         7      0.142857\n",
       "3  180         5      0.200000\n",
       "4  240         8      0.125000\n",
       "5  300        10      0.100000\n",
       "6  360        15      0.066667\n",
       "7  420        20      0.050000\n",
       "8  480        20      0.050000"
      ]
     },
     "execution_count": 3,
     "metadata": {},
     "output_type": "execute_result"
    }
   ],
   "source": [
    "banks_arrival_profile = load_banks_et_al_nspp()\n",
    "banks_arrival_profile"
   ]
  },
  {
   "cell_type": "markdown",
   "metadata": {},
   "source": [
    "## Model\n",
    "\n",
    "We define a simple experiment and Time Dependent model used only for counting the number of arrivals in an hour using thinning.\n",
    "\n",
    "> `simpy` is used in a way to control for a fixed number of arrivals rather than a given run length."
   ]
  },
  {
   "cell_type": "code",
   "execution_count": 4,
   "metadata": {},
   "outputs": [],
   "source": [
    "class Experiment:\n",
    "    def __init__(self, arrival_profile,\n",
    "                 random_no_set=None):\n",
    "        self.arrival_profile = arrival_profile\n",
    "\n",
    "    def init_sampling(self, random_no_set=None):\n",
    "        # producing 2 non-overlapping streams\n",
    "        seed_sequence = np.random.SeedSequence(random_no_set)\n",
    "        self.seeds = seed_sequence.spawn(2)\n",
    "        \n",
    "        self.nspp_rng = NSPPThinning(self.arrival_profile, self.seeds[0], \n",
    "                                     self.seeds[1])\n",
    "        "
   ]
  },
  {
   "cell_type": "code",
   "execution_count": 5,
   "metadata": {},
   "outputs": [],
   "source": [
    "class TimeDependentModel:\n",
    "    def __init__(self, env, experiment):\n",
    "        self.env = env\n",
    "        self.experiment = experiment\n",
    "        # create array hold arrivals per hour of day.\n",
    "        self.samples = [0] * experiment.arrival_profile.shape[0]\n",
    "        self.n_arrivals = 0\n",
    "\n",
    "    def arrivals_generator(self):\n",
    "        for _ in itertools.count():\n",
    "            # simulated arrival\n",
    "            interarrival_time = self.experiment.nspp_rng.sample(self.env.now)\n",
    "            yield self.env.timeout(interarrival_time)\n",
    "    \n",
    "            # add one to count for hour of the day\n",
    "            hour_of_day = int(self.env.now // 60) % \\\n",
    "                self.experiment.arrival_profile.shape[0]\n",
    "            self.samples[hour_of_day] += 1\n",
    "            self.n_arrivals += 1"
   ]
  },
  {
   "cell_type": "code",
   "execution_count": 6,
   "metadata": {},
   "outputs": [],
   "source": [
    "def single_run(experiment, run_length=540, random_no_set=0):\n",
    "    \"\"\"\n",
    "    Run a single replication of the model.\n",
    "    \"\"\"\n",
    "    # sim environment\n",
    "    env = simpy.Environment()\n",
    "    experiment.init_sampling(random_no_set)\n",
    "    # create experiment and parameterise model\n",
    "    model = TimeDependentModel(env, experiment)\n",
    "\n",
    "    # set up simpy processes.\n",
    "    env.process(model.arrivals_generator())\n",
    "    env.run(run_length)\n",
    "\n",
    "    return model.samples\n",
    "    "
   ]
  },
  {
   "cell_type": "code",
   "execution_count": 7,
   "metadata": {},
   "outputs": [],
   "source": [
    "def multiple_replications(experiment, run_length=540, n_reps=5):\n",
    "    '''\n",
    "    Perform multiple replications of the model.\n",
    "    \n",
    "    Params:\n",
    "    ------\n",
    "    experiment: Experiment\n",
    "        Parameters/arguments to configure the model\n",
    "    \n",
    "    run_length: float, optional (default=6540)\n",
    "        results collection period in minutes.\n",
    "        the number of minutes to run the model to collect results\n",
    "\n",
    "    n_reps: int, optional (default=5)\n",
    "        Number of independent replications to run.\n",
    "        \n",
    "    Returns:\n",
    "    --------\n",
    "    pandas.DataFrame\n",
    "    '''\n",
    "\n",
    "    results = [single_run(experiment, run_length, rep) \n",
    "               for rep in range(n_reps)]\n",
    "    \n",
    "    #format and return results in a dataframe\n",
    "    df_results = pd.DataFrame(results)\n",
    "    df_results.index = np.arange(1, len(df_results)+1)\n",
    "    df_results.index.name = 'rep'\n",
    "    return df_results\n"
   ]
  },
  {
   "cell_type": "code",
   "execution_count": 8,
   "metadata": {},
   "outputs": [
    {
     "data": {
      "text/plain": [
       "0     3.9890\n",
       "1     4.7556\n",
       "2     7.8881\n",
       "3    11.6374\n",
       "4     7.8514\n",
       "5     6.1986\n",
       "6     4.3569\n",
       "7     3.2573\n",
       "8     3.0115\n",
       "dtype: float64"
      ]
     },
     "execution_count": 8,
     "metadata": {},
     "output_type": "execute_result"
    }
   ],
   "source": [
    "# create experiment and parameterise model\n",
    "experiment = Experiment(banks_arrival_profile)\n",
    "results = multiple_replications(experiment, run_length=540, n_reps=10_000)\n",
    "\n",
    "results.mean(axis=0)"
   ]
  },
  {
   "cell_type": "code",
   "execution_count": 12,
   "metadata": {},
   "outputs": [
    {
     "data": {
      "image/png": "[encoded data removed]",
      "text/plain": [
       "<Figure size 1200x300 with 1 Axes>"
      ]
     },
     "metadata": {},
     "output_type": "display_data"
    }
   ],
   "source": [
    "# mean is average no arrivals in 1 hour. divide by 60 for per min.\n",
    "hour_means = results.mean(axis=0) / 60.0\n",
    "\n",
    "# visualise\n",
    "fig = plt.figure(figsize=(12,3))\n",
    "ax = fig.add_subplot()\n",
    "\n",
    "# plot in this case returns a 2D line plot object\n",
    "_ = ax.plot(hour_means)\n",
    "\n",
    "# read in mthod 3\n",
    "method3 = pd.read_csv(\"./banks_method3.csv\")\n",
    "_ = ax.plot(method3)\n",
    "\n",
    "_ = ax.legend([\"NSPP via Thinning\", \"Block hourly arrivals (method 3)\"])\n",
    "\n",
    "_ = ax.set_xlabel(\"hour of simulation\")\n",
    "_ = ax.set_xlabel(\"arrivals/min\")"
   ]
  }
 ],
 "metadata": {
  "kernelspec": {
   "display_name": "Python 3 (ipykernel)",
   "language": "python",
   "name": "python3"
  },
  "language_info": {
   "codemirror_mode": {
    "name": "ipython",
    "version": 3
   },
   "file_extension": ".py",
   "mimetype": "text/x-python",
   "name": "python",
   "nbconvert_exporter": "python",
   "pygments_lexer": "ipython3",
   "version": "3.10.14"
  }
 },
 "nbformat": 4,
 "nbformat_minor": 4
}
