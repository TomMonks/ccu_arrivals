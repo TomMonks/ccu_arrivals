{
 "cells": [
  {
   "cell_type": "markdown",
   "id": "1c24b29f-903a-4417-892c-b075d8955e29",
   "metadata": {},
   "source": [
    "# Method3\n",
    "\n",
    "This notebook generates the hourly number of arrivals using a Poisson distribution for each hour. We do using the example from Banks et al.\n",
    "\n",
    "::: {.callout-tip collapse=\"true\"}\n",
    "## More detail on the example from Banks et al.\n",
    "\n",
    "The table below is taken from Banks et al. and breaks an arrival process down into 60 minutes intervals.\n",
    "\n",
    "\n",
    "| t(min) | Mean time between arrivals (min) | Arrival Rate $\\lambda(t)$ (arrivals/min) |\n",
    "|:------:|:--------------------------------:|:--------------------------------------:|\n",
    "|    0   |                15                |                  1/15                  |\n",
    "|   60   |                12                |                  1/12                  |\n",
    "|   120  |                 7                |                   1/7                  |\n",
    "|   180  |                 5                |                   1/5                  |\n",
    "|   240  |                 8                |                   1/8                  |\n",
    "|   300  |                10                |                  1/10                  |\n",
    "|   360  |                15                |                  1/15                  |\n",
    "|   420  |                20                |                  1/20                  |\n",
    "|   480  |                20                |                  1/20                  |\n",
    "\n",
    "\n",
    "> **Interpretation**: In the table above the fastest arrival rate is 1/5 customers per minute or 5 minutes between customer arrivals.\n",
    "\n",
    ":::\n"
   ]
  },
  {
   "cell_type": "markdown",
   "id": "e935beed-b16c-4496-be76-a401d526acf4",
   "metadata": {},
   "source": [
    "## Imports"
   ]
  },
  {
   "cell_type": "code",
   "execution_count": 1,
   "id": "240c6541-bf90-4747-a61a-756f1e313bb6",
   "metadata": {},
   "outputs": [],
   "source": [
    "import warnings\n",
    "# avoid pandas deprecation warning. \n",
    "warnings.filterwarnings(\"ignore\", category=DeprecationWarning)"
   ]
  },
  {
   "cell_type": "code",
   "execution_count": 2,
   "id": "b364cde8-2637-4fc0-bb3a-9ee5ff73abd3",
   "metadata": {},
   "outputs": [
    {
     "data": {
      "text/plain": [
       "'0.5.0'"
      ]
     },
     "execution_count": 2,
     "metadata": {},
     "output_type": "execute_result"
    }
   ],
   "source": [
    "import pandas as pd\n",
    "import numpy as np\n",
    "import matplotlib.pyplot as plt\n",
    "\n",
    "from sim_tools.datasets import load_banks_et_al_nspp\n",
    "import sim_tools\n",
    "sim_tools.__version__"
   ]
  },
  {
   "cell_type": "markdown",
   "id": "7f6b34cf-5c64-4b29-a89e-409120add2e6",
   "metadata": {},
   "source": [
    "## Arrival Profile Data\n",
    "\n",
    "We will use the `arrival_rate` column as the parameter of the individual Poisson distributions."
   ]
  },
  {
   "cell_type": "code",
   "execution_count": 3,
   "id": "6099b5d2-539a-4b9f-94db-d55e2f8c3c27",
   "metadata": {},
   "outputs": [
    {
     "data": {
      "text/html": [
       "<div>\n",
       "<style scoped>\n",
       "    .dataframe tbody tr th:only-of-type {\n",
       "        vertical-align: middle;\n",
       "    }\n",
       "\n",
       "    .dataframe tbody tr th {\n",
       "        vertical-align: top;\n",
       "    }\n",
       "\n",
       "    .dataframe thead th {\n",
       "        text-align: right;\n",
       "    }\n",
       "</style>\n",
       "<table border=\"1\" class=\"dataframe\">\n",
       "  <thead>\n",
       "    <tr style=\"text-align: right;\">\n",
       "      <th></th>\n",
       "      <th>t</th>\n",
       "      <th>mean_iat</th>\n",
       "      <th>arrival_rate</th>\n",
       "    </tr>\n",
       "  </thead>\n",
       "  <tbody>\n",
       "    <tr>\n",
       "      <th>0</th>\n",
       "      <td>0</td>\n",
       "      <td>15</td>\n",
       "      <td>0.066667</td>\n",
       "    </tr>\n",
       "    <tr>\n",
       "      <th>1</th>\n",
       "      <td>60</td>\n",
       "      <td>12</td>\n",
       "      <td>0.083333</td>\n",
       "    </tr>\n",
       "    <tr>\n",
       "      <th>2</th>\n",
       "      <td>120</td>\n",
       "      <td>7</td>\n",
       "      <td>0.142857</td>\n",
       "    </tr>\n",
       "    <tr>\n",
       "      <th>3</th>\n",
       "      <td>180</td>\n",
       "      <td>5</td>\n",
       "      <td>0.200000</td>\n",
       "    </tr>\n",
       "    <tr>\n",
       "      <th>4</th>\n",
       "      <td>240</td>\n",
       "      <td>8</td>\n",
       "      <td>0.125000</td>\n",
       "    </tr>\n",
       "    <tr>\n",
       "      <th>5</th>\n",
       "      <td>300</td>\n",
       "      <td>10</td>\n",
       "      <td>0.100000</td>\n",
       "    </tr>\n",
       "    <tr>\n",
       "      <th>6</th>\n",
       "      <td>360</td>\n",
       "      <td>15</td>\n",
       "      <td>0.066667</td>\n",
       "    </tr>\n",
       "    <tr>\n",
       "      <th>7</th>\n",
       "      <td>420</td>\n",
       "      <td>20</td>\n",
       "      <td>0.050000</td>\n",
       "    </tr>\n",
       "    <tr>\n",
       "      <th>8</th>\n",
       "      <td>480</td>\n",
       "      <td>20</td>\n",
       "      <td>0.050000</td>\n",
       "    </tr>\n",
       "  </tbody>\n",
       "</table>\n",
       "</div>"
      ],
      "text/plain": [
       "     t  mean_iat  arrival_rate\n",
       "0    0        15      0.066667\n",
       "1   60        12      0.083333\n",
       "2  120         7      0.142857\n",
       "3  180         5      0.200000\n",
       "4  240         8      0.125000\n",
       "5  300        10      0.100000\n",
       "6  360        15      0.066667\n",
       "7  420        20      0.050000\n",
       "8  480        20      0.050000"
      ]
     },
     "execution_count": 3,
     "metadata": {},
     "output_type": "execute_result"
    }
   ],
   "source": [
    "banks_arrival_profile = load_banks_et_al_nspp()\n",
    "banks_arrival_profile"
   ]
  },
  {
   "cell_type": "markdown",
   "id": "e5a00ccc-0042-460f-afa8-55ade759b4f6",
   "metadata": {},
   "source": [
    "## Sampler\n",
    "\n",
    "A class has been created to simplify the sampling."
   ]
  },
  {
   "cell_type": "code",
   "execution_count": 4,
   "id": "a00a7f8f-154e-4dfd-81b7-33a763440193",
   "metadata": {},
   "outputs": [],
   "source": [
    "class HourPoissonSampler:\n",
    "    def __init__(self, arrival_profile, random_seed=None):\n",
    "        self.arrival_profile = arrival_profile\n",
    "        self.rng = np.random.default_rng(random_seed)\n",
    "\n",
    "    def sample(self, hour, size=None):\n",
    "        '''Sample the number of arrivals in a given hour\n",
    "\n",
    "        Parameters:\n",
    "        ---------\n",
    "        hour: int\n",
    "            Zero indexed hour\n",
    "\n",
    "        size: int, optional (default=None)\n",
    "            Number of samples to return. None returns 1.\n",
    "\n",
    "        Returns:\n",
    "        -------\n",
    "        np.array or float\n",
    "        \n",
    "        '''\n",
    "        rate = self.arrival_profile.iloc[hour]['arrival_rate']\n",
    "        return self.rng.poisson(rate, size=size)\n",
    "    "
   ]
  },
  {
   "cell_type": "markdown",
   "id": "d1e52ed3-d68e-4e82-ae7a-cf40365a1af9",
   "metadata": {},
   "source": [
    "## Using the sampler"
   ]
  },
  {
   "cell_type": "code",
   "execution_count": 5,
   "id": "3a37de3c-39f3-452d-b437-fca65200cf75",
   "metadata": {},
   "outputs": [
    {
     "data": {
      "text/plain": [
       "(100000,)"
      ]
     },
     "execution_count": 5,
     "metadata": {},
     "output_type": "execute_result"
    }
   ],
   "source": [
    "samples_per_hour = 100_000\n",
    "\n",
    "# create the sampler and set seed\n",
    "ph_sampler = HourPoissonSampler(banks_arrival_profile, random_seed=42)\n",
    "\n",
    "# returns numpy array for hour 1\n",
    "hr_sample = ph_sampler.sample(0, size=samples_per_hour)\n",
    "hr_sample.shape"
   ]
  },
  {
   "cell_type": "code",
   "execution_count": 6,
   "id": "a0681915-8f97-466a-8484-dd5e853513a3",
   "metadata": {},
   "outputs": [
    {
     "data": {
      "text/plain": [
       "array([0, 0, 0, 0, 0, 1, 0, 0, 0, 0])"
      ]
     },
     "execution_count": 6,
     "metadata": {},
     "output_type": "execute_result"
    }
   ],
   "source": [
    "# first 10 results\n",
    "hr_sample[:10]"
   ]
  },
  {
   "cell_type": "code",
   "execution_count": 7,
   "id": "faeb7d45-ce62-40f5-adf4-652a658a0288",
   "metadata": {},
   "outputs": [
    {
     "data": {
      "text/plain": [
       "0.06723"
      ]
     },
     "execution_count": 7,
     "metadata": {},
     "output_type": "execute_result"
    }
   ],
   "source": [
    "# mean arrival rate as expected - its our rate parameter og 0.067 per hr.\n",
    "hr_sample.mean()"
   ]
  },
  {
   "cell_type": "markdown",
   "id": "c5dd3463-c5ca-4726-9b08-a6824aea31b8",
   "metadata": {},
   "source": [
    "## Sampling experiment"
   ]
  },
  {
   "cell_type": "code",
   "execution_count": 8,
   "id": "7fb9f8e5-3bc9-46f7-92d6-14c42bf6c1d9",
   "metadata": {},
   "outputs": [],
   "source": [
    "ph_sampler = HourPoissonSampler(banks_arrival_profile, random_seed=42)\n",
    "\n",
    "samples = []\n",
    "for hr in range(len(banks_arrival_profile)):\n",
    "    hr_sample = ph_sampler.sample(hr, size=samples_per_hour)\n",
    "    samples.append(hr_sample)\n",
    "\n"
   ]
  },
  {
   "cell_type": "markdown",
   "id": "c6ac87e0-f86c-4e54-95d2-9e5b2f386b27",
   "metadata": {},
   "source": [
    "## Plot results\n",
    "\n",
    "The hour means are our theorectical arrival rates per hour - as expected."
   ]
  },
  {
   "cell_type": "code",
   "execution_count": 9,
   "id": "5836ae8d-6cc2-4678-a8e2-12ce13e78076",
   "metadata": {},
   "outputs": [
    {
     "data": {
      "image/png": "[encoded data removed]",
      "text/plain": [
       "<Figure size 1200x300 with 1 Axes>"
      ]
     },
     "metadata": {},
     "output_type": "display_data"
    }
   ],
   "source": [
    "# get hour means\n",
    "hour_means = np.asarray(samples).mean(axis=1)\n",
    "\n",
    "# visualise\n",
    "fig = plt.figure(figsize=(12,3))\n",
    "ax = fig.add_subplot()\n",
    "\n",
    "# plot in this case returns a 2D line plot object\n",
    "_ = ax.plot(hour_means)"
   ]
  },
  {
   "cell_type": "code",
   "execution_count": 10,
   "id": "90acf0e0-c83d-4048-97f3-94577a999871",
   "metadata": {},
   "outputs": [],
   "source": [
    "pd.DataFrame(hour_means).to_csv(\"./banks_method3.csv\", index=False)"
   ]
  }
 ],
 "metadata": {
  "kernelspec": {
   "display_name": "Python 3 (ipykernel)",
   "language": "python",
   "name": "python3"
  },
  "language_info": {
   "codemirror_mode": {
    "name": "ipython",
    "version": 3
   },
   "file_extension": ".py",
   "mimetype": "text/x-python",
   "name": "python",
   "nbconvert_exporter": "python",
   "pygments_lexer": "ipython3",
   "version": "3.10.14"
  }
 },
 "nbformat": 4,
 "nbformat_minor": 5
}
