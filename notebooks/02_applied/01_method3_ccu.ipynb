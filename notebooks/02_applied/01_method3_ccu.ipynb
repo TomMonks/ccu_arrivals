{
 "cells": [
  {
   "cell_type": "markdown",
   "id": "1c24b29f-903a-4417-892c-b075d8955e29",
   "metadata": {},
   "source": [
    "# Method 3\n",
    "\n",
    "This notebook generates the hourly number of arrivals using a Poisson distribution for each hour. This is applied to the example from thr CCU weekday dataset."
   ]
  },
  {
   "cell_type": "markdown",
   "id": "e935beed-b16c-4496-be76-a401d526acf4",
   "metadata": {},
   "source": [
    "## Imports"
   ]
  },
  {
   "cell_type": "code",
   "execution_count": 10,
   "id": "b364cde8-2637-4fc0-bb3a-9ee5ff73abd3",
   "metadata": {},
   "outputs": [
    {
     "data": {
      "text/plain": [
       "'0.5.0'"
      ]
     },
     "execution_count": 10,
     "metadata": {},
     "output_type": "execute_result"
    }
   ],
   "source": [
    "import pandas as pd\n",
    "import numpy as np\n",
    "import matplotlib.pyplot as plt\n",
    "\n",
    "plt.style.use('ggplot')\n",
    "\n",
    "from sim_tools.datasets import load_banks_et_al_nspp\n",
    "import sim_tools\n",
    "sim_tools.__version__"
   ]
  },
  {
   "cell_type": "markdown",
   "id": "7f6b34cf-5c64-4b29-a89e-409120add2e6",
   "metadata": {},
   "source": [
    "## Arrival Profile Data\n",
    "\n",
    "We will use the `arrival_rate` column as the parameter of the individual Poisson distributions."
   ]
  },
  {
   "cell_type": "code",
   "execution_count": 2,
   "id": "6099b5d2-539a-4b9f-94db-d55e2f8c3c27",
   "metadata": {},
   "outputs": [
    {
     "data": {
      "text/html": [
       "<div>\n",
       "<style scoped>\n",
       "    .dataframe tbody tr th:only-of-type {\n",
       "        vertical-align: middle;\n",
       "    }\n",
       "\n",
       "    .dataframe tbody tr th {\n",
       "        vertical-align: top;\n",
       "    }\n",
       "\n",
       "    .dataframe thead th {\n",
       "        text-align: right;\n",
       "    }\n",
       "</style>\n",
       "<table border=\"1\" class=\"dataframe\">\n",
       "  <thead>\n",
       "    <tr style=\"text-align: right;\">\n",
       "      <th></th>\n",
       "      <th>t</th>\n",
       "      <th>arrival_rate</th>\n",
       "      <th>mean_iat</th>\n",
       "    </tr>\n",
       "  </thead>\n",
       "  <tbody>\n",
       "    <tr>\n",
       "      <th>0</th>\n",
       "      <td>0</td>\n",
       "      <td>1.1</td>\n",
       "      <td>55.5</td>\n",
       "    </tr>\n",
       "    <tr>\n",
       "      <th>1</th>\n",
       "      <td>60</td>\n",
       "      <td>1.3</td>\n",
       "      <td>46.1</td>\n",
       "    </tr>\n",
       "    <tr>\n",
       "      <th>2</th>\n",
       "      <td>120</td>\n",
       "      <td>0.9</td>\n",
       "      <td>69.3</td>\n",
       "    </tr>\n",
       "    <tr>\n",
       "      <th>3</th>\n",
       "      <td>180</td>\n",
       "      <td>0.9</td>\n",
       "      <td>67.2</td>\n",
       "    </tr>\n",
       "    <tr>\n",
       "      <th>4</th>\n",
       "      <td>240</td>\n",
       "      <td>0.7</td>\n",
       "      <td>85.1</td>\n",
       "    </tr>\n",
       "    <tr>\n",
       "      <th>5</th>\n",
       "      <td>300</td>\n",
       "      <td>0.7</td>\n",
       "      <td>81.1</td>\n",
       "    </tr>\n",
       "    <tr>\n",
       "      <th>6</th>\n",
       "      <td>360</td>\n",
       "      <td>0.7</td>\n",
       "      <td>90.0</td>\n",
       "    </tr>\n",
       "    <tr>\n",
       "      <th>7</th>\n",
       "      <td>420</td>\n",
       "      <td>0.5</td>\n",
       "      <td>115.1</td>\n",
       "    </tr>\n",
       "    <tr>\n",
       "      <th>8</th>\n",
       "      <td>480</td>\n",
       "      <td>0.4</td>\n",
       "      <td>145.0</td>\n",
       "    </tr>\n",
       "    <tr>\n",
       "      <th>9</th>\n",
       "      <td>540</td>\n",
       "      <td>0.4</td>\n",
       "      <td>141.1</td>\n",
       "    </tr>\n",
       "    <tr>\n",
       "      <th>10</th>\n",
       "      <td>600</td>\n",
       "      <td>0.6</td>\n",
       "      <td>99.1</td>\n",
       "    </tr>\n",
       "    <tr>\n",
       "      <th>11</th>\n",
       "      <td>660</td>\n",
       "      <td>1.0</td>\n",
       "      <td>62.1</td>\n",
       "    </tr>\n",
       "    <tr>\n",
       "      <th>12</th>\n",
       "      <td>720</td>\n",
       "      <td>1.0</td>\n",
       "      <td>60.5</td>\n",
       "    </tr>\n",
       "    <tr>\n",
       "      <th>13</th>\n",
       "      <td>780</td>\n",
       "      <td>1.1</td>\n",
       "      <td>56.3</td>\n",
       "    </tr>\n",
       "    <tr>\n",
       "      <th>14</th>\n",
       "      <td>840</td>\n",
       "      <td>1.2</td>\n",
       "      <td>50.8</td>\n",
       "    </tr>\n",
       "    <tr>\n",
       "      <th>15</th>\n",
       "      <td>900</td>\n",
       "      <td>1.3</td>\n",
       "      <td>45.1</td>\n",
       "    </tr>\n",
       "    <tr>\n",
       "      <th>16</th>\n",
       "      <td>960</td>\n",
       "      <td>1.3</td>\n",
       "      <td>47.7</td>\n",
       "    </tr>\n",
       "    <tr>\n",
       "      <th>17</th>\n",
       "      <td>1020</td>\n",
       "      <td>1.4</td>\n",
       "      <td>43.5</td>\n",
       "    </tr>\n",
       "    <tr>\n",
       "      <th>18</th>\n",
       "      <td>1080</td>\n",
       "      <td>1.6</td>\n",
       "      <td>36.7</td>\n",
       "    </tr>\n",
       "    <tr>\n",
       "      <th>19</th>\n",
       "      <td>1140</td>\n",
       "      <td>1.4</td>\n",
       "      <td>44.4</td>\n",
       "    </tr>\n",
       "    <tr>\n",
       "      <th>20</th>\n",
       "      <td>1200</td>\n",
       "      <td>1.0</td>\n",
       "      <td>58.2</td>\n",
       "    </tr>\n",
       "    <tr>\n",
       "      <th>21</th>\n",
       "      <td>1260</td>\n",
       "      <td>1.2</td>\n",
       "      <td>50.4</td>\n",
       "    </tr>\n",
       "    <tr>\n",
       "      <th>22</th>\n",
       "      <td>1320</td>\n",
       "      <td>1.1</td>\n",
       "      <td>52.9</td>\n",
       "    </tr>\n",
       "    <tr>\n",
       "      <th>23</th>\n",
       "      <td>1380</td>\n",
       "      <td>1.3</td>\n",
       "      <td>46.9</td>\n",
       "    </tr>\n",
       "  </tbody>\n",
       "</table>\n",
       "</div>"
      ],
      "text/plain": [
       "       t  arrival_rate  mean_iat\n",
       "0      0           1.1      55.5\n",
       "1     60           1.3      46.1\n",
       "2    120           0.9      69.3\n",
       "3    180           0.9      67.2\n",
       "4    240           0.7      85.1\n",
       "5    300           0.7      81.1\n",
       "6    360           0.7      90.0\n",
       "7    420           0.5     115.1\n",
       "8    480           0.4     145.0\n",
       "9    540           0.4     141.1\n",
       "10   600           0.6      99.1\n",
       "11   660           1.0      62.1\n",
       "12   720           1.0      60.5\n",
       "13   780           1.1      56.3\n",
       "14   840           1.2      50.8\n",
       "15   900           1.3      45.1\n",
       "16   960           1.3      47.7\n",
       "17  1020           1.4      43.5\n",
       "18  1080           1.6      36.7\n",
       "19  1140           1.4      44.4\n",
       "20  1200           1.0      58.2\n",
       "21  1260           1.2      50.4\n",
       "22  1320           1.1      52.9\n",
       "23  1380           1.3      46.9"
      ]
     },
     "execution_count": 2,
     "metadata": {},
     "output_type": "execute_result"
    }
   ],
   "source": [
    "ccu_arrival_profile_week = pd.read_csv('./data/weekday_profile.csv')\n",
    "ccu_arrival_profile_week.round(1)"
   ]
  },
  {
   "cell_type": "markdown",
   "id": "e5a00ccc-0042-460f-afa8-55ade759b4f6",
   "metadata": {},
   "source": [
    "## Sampler\n",
    "\n",
    "A class has been created to simplify the sampling."
   ]
  },
  {
   "cell_type": "code",
   "execution_count": 3,
   "id": "a00a7f8f-154e-4dfd-81b7-33a763440193",
   "metadata": {},
   "outputs": [],
   "source": [
    "class HourPoissonSampler:\n",
    "    def __init__(self, arrival_profile, random_seed=None):\n",
    "        self.arrival_profile = arrival_profile\n",
    "        self.rng = np.random.default_rng(random_seed)\n",
    "\n",
    "    def sample(self, hour, size=None):\n",
    "        '''Sample the number of arrivals in a given hour\n",
    "\n",
    "        Parameters:\n",
    "        ---------\n",
    "        hour: int\n",
    "            Zero indexed hour\n",
    "\n",
    "        size: int, optional (default=None)\n",
    "            Number of samples to return. None returns 1.\n",
    "\n",
    "        Returns:\n",
    "        -------\n",
    "        np.array or float\n",
    "        \n",
    "        '''\n",
    "        rate = self.arrival_profile.iloc[hour]['arrival_rate']\n",
    "        return self.rng.poisson(rate, size=size)\n",
    "    "
   ]
  },
  {
   "cell_type": "markdown",
   "id": "d1e52ed3-d68e-4e82-ae7a-cf40365a1af9",
   "metadata": {},
   "source": [
    "## Using the sampler"
   ]
  },
  {
   "cell_type": "code",
   "execution_count": 4,
   "id": "3a37de3c-39f3-452d-b437-fca65200cf75",
   "metadata": {},
   "outputs": [
    {
     "data": {
      "text/plain": [
       "(10000,)"
      ]
     },
     "execution_count": 4,
     "metadata": {},
     "output_type": "execute_result"
    }
   ],
   "source": [
    "samples_per_hour = 10_000\n",
    "\n",
    "# create the sampler and set seed\n",
    "ph_sampler = HourPoissonSampler(ccu_arrival_profile_week, random_seed=42)\n",
    "\n",
    "# returns numpy array for hour 1\n",
    "hr_sample = ph_sampler.sample(0, size=samples_per_hour)\n",
    "hr_sample.shape"
   ]
  },
  {
   "cell_type": "code",
   "execution_count": 5,
   "id": "a0681915-8f97-466a-8484-dd5e853513a3",
   "metadata": {},
   "outputs": [
    {
     "data": {
      "text/plain": [
       "array([2, 1, 3, 1, 3, 0, 1, 3, 3, 1])"
      ]
     },
     "execution_count": 5,
     "metadata": {},
     "output_type": "execute_result"
    }
   ],
   "source": [
    "# first 10 results\n",
    "hr_sample[:10]"
   ]
  },
  {
   "cell_type": "code",
   "execution_count": 6,
   "id": "faeb7d45-ce62-40f5-adf4-652a658a0288",
   "metadata": {},
   "outputs": [
    {
     "data": {
      "text/plain": [
       "1.1"
      ]
     },
     "execution_count": 6,
     "metadata": {},
     "output_type": "execute_result"
    }
   ],
   "source": [
    "# mean arrival rate as expected - its our rate parameter og 0.067 per hr.\n",
    "hr_sample.mean().round(1)"
   ]
  },
  {
   "cell_type": "markdown",
   "id": "c5dd3463-c5ca-4726-9b08-a6824aea31b8",
   "metadata": {},
   "source": [
    "## Sampling experiment"
   ]
  },
  {
   "cell_type": "code",
   "execution_count": 7,
   "id": "7fb9f8e5-3bc9-46f7-92d6-14c42bf6c1d9",
   "metadata": {},
   "outputs": [],
   "source": [
    "ph_sampler = HourPoissonSampler(ccu_arrival_profile_week, random_seed=42)\n",
    "\n",
    "samples = []\n",
    "for hr in range(len(ccu_arrival_profile_week)):\n",
    "    hr_sample = ph_sampler.sample(hr, size=samples_per_hour)\n",
    "    samples.append(hr_sample)\n",
    "\n"
   ]
  },
  {
   "cell_type": "markdown",
   "id": "c6ac87e0-f86c-4e54-95d2-9e5b2f386b27",
   "metadata": {},
   "source": [
    "## Plot results\n",
    "\n",
    "The hour means are our theorectical arrival rates per hour - as expected."
   ]
  },
  {
   "cell_type": "code",
   "execution_count": 8,
   "id": "5836ae8d-6cc2-4678-a8e2-12ce13e78076",
   "metadata": {},
   "outputs": [
    {
     "data": {
      "image/png": "[encoded data removed]",
      "text/plain": [
       "<Figure size 1200x300 with 1 Axes>"
      ]
     },
     "metadata": {},
     "output_type": "display_data"
    }
   ],
   "source": [
    "# get hour means\n",
    "hour_means = np.asarray(samples).mean(axis=1)\n",
    "hour_sd = np.asarray(samples).std(axis=1) \n",
    "\n",
    "upper = hour_means + hour_sd\n",
    "lower = hour_means - hour_sd\n",
    "lower[lower < 0] = 0\n",
    "\n",
    "x_values = np.arange(0, ccu_arrival_profile_week.shape[0])\n",
    "\n",
    "# visualise\n",
    "fig = plt.figure(figsize=(12,3))\n",
    "ax = fig.add_subplot()\n",
    "\n",
    "# plot in this case returns a 2D line plot object\n",
    "_ = ax.plot(hour_means, label='Method3: Mean')\n",
    "_ = ax.fill_between(x_values, lower, upper, alpha=0.2, label='Method3: +1SD')\n",
    "_ = ax.set_ylim(0, 3.5)\n",
    "_ = ax.set_xlim(0, 23)\n",
    "_ = plt.xticks(np.arange(0, ccu_arrival_profile_week.shape[0]))\n",
    "_ = ax.set_ylabel(\"Patients\")\n",
    "_ = ax.set_xlabel(\"hour of simulation\")\n",
    "_ = ax.legend()"
   ]
  },
  {
   "cell_type": "code",
   "execution_count": 9,
   "id": "90acf0e0-c83d-4048-97f3-94577a999871",
   "metadata": {},
   "outputs": [],
   "source": [
    "method3_output = pd.DataFrame(hour_means, columns=[\"mean\"])\n",
    "method3_output['-1SD'] = lower\n",
    "method3_output['+1SD'] = upper\n",
    "method3_output['sd'] = hour_sd\n",
    "method3_output.to_csv(\"./ccu_method3.csv\", index=False)"
   ]
  },
  {
   "cell_type": "code",
   "execution_count": null,
   "id": "e4da98d7-a8d5-43fd-9280-610fd1c7f86c",
   "metadata": {},
   "outputs": [],
   "source": []
  }
 ],
 "metadata": {
  "kernelspec": {
   "display_name": "Python 3 (ipykernel)",
   "language": "python",
   "name": "python3"
  },
  "language_info": {
   "codemirror_mode": {
    "name": "ipython",
    "version": 3
   },
   "file_extension": ".py",
   "mimetype": "text/x-python",
   "name": "python",
   "nbconvert_exporter": "python",
   "pygments_lexer": "ipython3",
   "version": "3.10.14"
  }
 },
 "nbformat": 4,
 "nbformat_minor": 5
}
